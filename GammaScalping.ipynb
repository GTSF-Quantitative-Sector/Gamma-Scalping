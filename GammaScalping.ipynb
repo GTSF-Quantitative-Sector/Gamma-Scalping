{
  "nbformat": 4,
  "nbformat_minor": 0,
  "metadata": {
    "colab": {
      "provenance": []
    },
    "kernelspec": {
      "name": "python3",
      "display_name": "Python 3"
    },
    "language_info": {
      "name": "python"
    }
  },
  "cells": [
    {
      "cell_type": "code",
      "execution_count": 4,
      "metadata": {
        "colab": {
          "base_uri": "https://localhost:8080/"
        },
        "id": "L23xCI2jVce1",
        "outputId": "46b59613-d264-435b-f378-881d7f6e30bc"
      },
      "outputs": [
        {
          "output_type": "stream",
          "name": "stdout",
          "text": [
            "Collecting git+https://github.com/GTSF-Quantitative-Sector/sec_parser.git\n",
            "  Cloning https://github.com/GTSF-Quantitative-Sector/sec_parser.git to /tmp/pip-req-build-7zevqo7c\n",
            "  Running command git clone --filter=blob:none --quiet https://github.com/GTSF-Quantitative-Sector/sec_parser.git /tmp/pip-req-build-7zevqo7c\n",
            "  Resolved https://github.com/GTSF-Quantitative-Sector/sec_parser.git to commit 3bde3fd9b289cbcf2a38fac9790c0fbf2f47b962\n",
            "  Preparing metadata (setup.py) ... \u001b[?25l\u001b[?25hdone\n",
            "Requirement already satisfied: aiohttp in /usr/local/lib/python3.10/dist-packages (from sec==1.5) (3.9.3)\n",
            "Collecting orjson (from sec==1.5)\n",
            "  Downloading orjson-3.9.14-cp310-cp310-manylinux_2_17_x86_64.manylinux2014_x86_64.whl (138 kB)\n",
            "\u001b[2K     \u001b[90m━━━━━━━━━━━━━━━━━━━━━━━━━━━━━━━━━━━━━━━━\u001b[0m \u001b[32m139.0/139.0 kB\u001b[0m \u001b[31m3.0 MB/s\u001b[0m eta \u001b[36m0:00:00\u001b[0m\n",
            "\u001b[?25hRequirement already satisfied: pandas in /usr/local/lib/python3.10/dist-packages (from sec==1.5) (1.5.3)\n",
            "Requirement already satisfied: python_dateutil in /usr/local/lib/python3.10/dist-packages (from sec==1.5) (2.8.2)\n",
            "Requirement already satisfied: requests in /usr/local/lib/python3.10/dist-packages (from sec==1.5) (2.31.0)\n",
            "Collecting pre-commit (from sec==1.5)\n",
            "  Downloading pre_commit-3.6.2-py2.py3-none-any.whl (204 kB)\n",
            "\u001b[2K     \u001b[90m━━━━━━━━━━━━━━━━━━━━━━━━━━━━━━━━━━━━━━━━\u001b[0m \u001b[32m204.2/204.2 kB\u001b[0m \u001b[31m9.3 MB/s\u001b[0m eta \u001b[36m0:00:00\u001b[0m\n",
            "\u001b[?25hCollecting black (from sec==1.5)\n",
            "  Downloading black-24.2.0-cp310-cp310-manylinux_2_17_x86_64.manylinux2014_x86_64.whl (1.7 MB)\n",
            "\u001b[2K     \u001b[90m━━━━━━━━━━━━━━━━━━━━━━━━━━━━━━━━━━━━━━━━\u001b[0m \u001b[32m1.7/1.7 MB\u001b[0m \u001b[31m12.4 MB/s\u001b[0m eta \u001b[36m0:00:00\u001b[0m\n",
            "\u001b[?25hRequirement already satisfied: aiosignal>=1.1.2 in /usr/local/lib/python3.10/dist-packages (from aiohttp->sec==1.5) (1.3.1)\n",
            "Requirement already satisfied: attrs>=17.3.0 in /usr/local/lib/python3.10/dist-packages (from aiohttp->sec==1.5) (23.2.0)\n",
            "Requirement already satisfied: frozenlist>=1.1.1 in /usr/local/lib/python3.10/dist-packages (from aiohttp->sec==1.5) (1.4.1)\n",
            "Requirement already satisfied: multidict<7.0,>=4.5 in /usr/local/lib/python3.10/dist-packages (from aiohttp->sec==1.5) (6.0.5)\n",
            "Requirement already satisfied: yarl<2.0,>=1.0 in /usr/local/lib/python3.10/dist-packages (from aiohttp->sec==1.5) (1.9.4)\n",
            "Requirement already satisfied: async-timeout<5.0,>=4.0 in /usr/local/lib/python3.10/dist-packages (from aiohttp->sec==1.5) (4.0.3)\n",
            "Requirement already satisfied: click>=8.0.0 in /usr/local/lib/python3.10/dist-packages (from black->sec==1.5) (8.1.7)\n",
            "Collecting mypy-extensions>=0.4.3 (from black->sec==1.5)\n",
            "  Downloading mypy_extensions-1.0.0-py3-none-any.whl (4.7 kB)\n",
            "Requirement already satisfied: packaging>=22.0 in /usr/local/lib/python3.10/dist-packages (from black->sec==1.5) (23.2)\n",
            "Collecting pathspec>=0.9.0 (from black->sec==1.5)\n",
            "  Downloading pathspec-0.12.1-py3-none-any.whl (31 kB)\n",
            "Requirement already satisfied: platformdirs>=2 in /usr/local/lib/python3.10/dist-packages (from black->sec==1.5) (4.2.0)\n",
            "Requirement already satisfied: tomli>=1.1.0 in /usr/local/lib/python3.10/dist-packages (from black->sec==1.5) (2.0.1)\n",
            "Requirement already satisfied: typing-extensions>=4.0.1 in /usr/local/lib/python3.10/dist-packages (from black->sec==1.5) (4.9.0)\n",
            "Requirement already satisfied: pytz>=2020.1 in /usr/local/lib/python3.10/dist-packages (from pandas->sec==1.5) (2023.4)\n",
            "Requirement already satisfied: numpy>=1.21.0 in /usr/local/lib/python3.10/dist-packages (from pandas->sec==1.5) (1.25.2)\n",
            "Requirement already satisfied: six>=1.5 in /usr/local/lib/python3.10/dist-packages (from python_dateutil->sec==1.5) (1.16.0)\n",
            "Collecting cfgv>=2.0.0 (from pre-commit->sec==1.5)\n",
            "  Downloading cfgv-3.4.0-py2.py3-none-any.whl (7.2 kB)\n",
            "Collecting identify>=1.0.0 (from pre-commit->sec==1.5)\n",
            "  Downloading identify-2.5.35-py2.py3-none-any.whl (98 kB)\n",
            "\u001b[2K     \u001b[90m━━━━━━━━━━━━━━━━━━━━━━━━━━━━━━━━━━━━━━━━\u001b[0m \u001b[32m98.9/98.9 kB\u001b[0m \u001b[31m10.7 MB/s\u001b[0m eta \u001b[36m0:00:00\u001b[0m\n",
            "\u001b[?25hCollecting nodeenv>=0.11.1 (from pre-commit->sec==1.5)\n",
            "  Downloading nodeenv-1.8.0-py2.py3-none-any.whl (22 kB)\n",
            "Requirement already satisfied: pyyaml>=5.1 in /usr/local/lib/python3.10/dist-packages (from pre-commit->sec==1.5) (6.0.1)\n",
            "Collecting virtualenv>=20.10.0 (from pre-commit->sec==1.5)\n",
            "  Downloading virtualenv-20.25.1-py3-none-any.whl (3.8 MB)\n",
            "\u001b[2K     \u001b[90m━━━━━━━━━━━━━━━━━━━━━━━━━━━━━━━━━━━━━━━━\u001b[0m \u001b[32m3.8/3.8 MB\u001b[0m \u001b[31m12.8 MB/s\u001b[0m eta \u001b[36m0:00:00\u001b[0m\n",
            "\u001b[?25hRequirement already satisfied: charset-normalizer<4,>=2 in /usr/local/lib/python3.10/dist-packages (from requests->sec==1.5) (3.3.2)\n",
            "Requirement already satisfied: idna<4,>=2.5 in /usr/local/lib/python3.10/dist-packages (from requests->sec==1.5) (3.6)\n",
            "Requirement already satisfied: urllib3<3,>=1.21.1 in /usr/local/lib/python3.10/dist-packages (from requests->sec==1.5) (2.0.7)\n",
            "Requirement already satisfied: certifi>=2017.4.17 in /usr/local/lib/python3.10/dist-packages (from requests->sec==1.5) (2024.2.2)\n",
            "Requirement already satisfied: setuptools in /usr/local/lib/python3.10/dist-packages (from nodeenv>=0.11.1->pre-commit->sec==1.5) (67.7.2)\n",
            "Collecting distlib<1,>=0.3.7 (from virtualenv>=20.10.0->pre-commit->sec==1.5)\n",
            "  Downloading distlib-0.3.8-py2.py3-none-any.whl (468 kB)\n",
            "\u001b[2K     \u001b[90m━━━━━━━━━━━━━━━━━━━━━━━━━━━━━━━━━━━━━━━━\u001b[0m \u001b[32m468.9/468.9 kB\u001b[0m \u001b[31m21.9 MB/s\u001b[0m eta \u001b[36m0:00:00\u001b[0m\n",
            "\u001b[?25hRequirement already satisfied: filelock<4,>=3.12.2 in /usr/local/lib/python3.10/dist-packages (from virtualenv>=20.10.0->pre-commit->sec==1.5) (3.13.1)\n",
            "Building wheels for collected packages: sec\n",
            "  Building wheel for sec (setup.py) ... \u001b[?25l\u001b[?25hdone\n",
            "  Created wheel for sec: filename=sec-1.5-py3-none-any.whl size=20610135 sha256=73adaad4dda4ccd49c7c6312b7db6a56d1bf470e9fa78ad33376f7133cb3423c\n",
            "  Stored in directory: /tmp/pip-ephem-wheel-cache-l5js2sb0/wheels/e7/25/49/45add1897cec2a75bc8b03d3927132f5b3f5d6369d3dce2ada\n",
            "Successfully built sec\n",
            "Installing collected packages: distlib, virtualenv, pathspec, orjson, nodeenv, mypy-extensions, identify, cfgv, pre-commit, black, sec\n",
            "Successfully installed black-24.2.0 cfgv-3.4.0 distlib-0.3.8 identify-2.5.35 mypy-extensions-1.0.0 nodeenv-1.8.0 orjson-3.9.14 pathspec-0.12.1 pre-commit-3.6.2 sec-1.5 virtualenv-20.25.1\n"
          ]
        }
      ],
      "source": [
        "!pip install git+https://github.com/GTSF-Quantitative-Sector/sec_parser.git"
      ]
    },
    {
      "cell_type": "code",
      "source": [
        "from sec import constants, stock, lookups, processor\n",
        "import pandas as pd\n",
        "from datetime import datetime, timedelta\n",
        "from typing import Iterator\n",
        "import asyncio\n",
        "from tqdm import tqdm\n",
        "import pickle\n",
        "import os\n",
        "import matplotlib.pyplot as plt"
      ],
      "metadata": {
        "id": "UvNKTVU0h17t"
      },
      "execution_count": 5,
      "outputs": []
    },
    {
      "cell_type": "code",
      "source": [
        "constants.set_polygon_key(\"_4BtZn3PRCLu6fsdu7dgddb4ucmB1sfp\")"
      ],
      "metadata": {
        "id": "ER3dJiRhjB-L"
      },
      "execution_count": 6,
      "outputs": []
    },
    {
      "cell_type": "code",
      "source": [
        "API_KEY = \"_4BtZn3PRCLu6fsdu7dgddb4ucmB1sfp\""
      ],
      "metadata": {
        "id": "59QXxOk6n6mz"
      },
      "execution_count": 7,
      "outputs": []
    },
    {
      "cell_type": "code",
      "source": [
        "# Get the current date\n",
        "def get_date(day: int = 0):\n",
        "# Format the date as YYYY-MM-DD\n",
        "  today = datetime.now()\n",
        "  day = today - timedelta(days=day)\n",
        "  date = day.strftime('%Y-%m-%d')\n",
        "  return date"
      ],
      "metadata": {
        "id": "rCkNsjM6kwLD"
      },
      "execution_count": 9,
      "outputs": []
    },
    {
      "cell_type": "code",
      "source": [
        "# Hard coded every industry's Beta\n",
        "industry_beta = {\n",
        "  \"Advertising\": 1.37,\n",
        "  \"Aerospace/Defense\": 1.08,\n",
        "  \"Air Transport\": 1.27,\n",
        "  \"Apparel\": 1.19,\n",
        "  \"Auto & Truck\": 1.52,\n",
        "  \"Auto Parts\": 1.34,\n",
        "  \"Bank (Money Center)\": 1.06,\n",
        "  \"Banks (Regional)\": 0.46,\n",
        "  \"Beverage (Alcoholic)\": 1.13,\n",
        "  \"Beverage (Soft)\": 0.76,\n",
        "  \"Broadcasting\": 1.06,\n",
        "  \"Brokerage & Investment Banking\": 1.12,\n",
        "  \"Building Materials\": 1.32,\n",
        "  \"Business & Consumer Services\": 1.02,\n",
        "  \"Cable TV\": 1.28,\n",
        "  \"Chemical (Basic)\": 1.1,\n",
        "  \"Chemical (Diversified)\": 1.13,\n",
        "  \"Chemical (Specialty)\": 1.09,\n",
        "  \"Coal & Related Energy\": 1.27,\n",
        "  \"Computer Services\": 1.0,\n",
        "  \"Computers/Peripherals\": 1.13,\n",
        "  \"Construction Supplies\": 0.94,\n",
        "  \"Diversified\": 1.19,\n",
        "  \"Drugs (Biotechnology)\": 1.12,\n",
        "  \"Drugs (Pharmaceutical)\": 1.03,\n",
        "  \"Education\": 1.23,\n",
        "  \"Electrical Equipment\": 1.24,\n",
        "  \"Electronics (Consumer & Office)\": 1.3,\n",
        "  \"Electronics (General)\": 0.93,\n",
        "  \"Engineering/Construction\": 1.06,\n",
        "  \"Entertainment\": 0.99,\n",
        "  \"Environmental & Waste Services\": 0.91,\n",
        "  \"Farming/Agriculture\": 0.99,\n",
        "  \"Financial Svcs. (Non-bank & Insuran\": 1.14,\n",
        "  \"Food Processing\": 0.71,\n",
        "  \"Food Wholesalers\": 0.97,\n",
        "  \"Furn/Home Furnishings\": 1.11,\n",
        "  \"Green & Renewable Energy\": 1.11,\n",
        "  \"Healthcare Products\": 1.06,\n",
        "  \"Healthcare Support Services\": 1.03,\n",
        "  \"Heathcare Information and Technol\": 1.27,\n",
        "  \"Homebuilding\": 1.37,\n",
        "  \"Hospitals/Healthcare Facilities\": 0.88,\n",
        "  \"Hotel/Gaming\": 1.34,\n",
        "  \"Household Products\": 0.78,\n",
        "  \"Information Services\": 0.93,\n",
        "  \"Insurance (General)\": 1.03,\n",
        "  \"Insurance (Life)\": 0.77,\n",
        "  \"Insurance (Prop/Cas.)\": 0.74,\n",
        "  \"Investments & Asset Management\": 0.46,\n",
        "  \"Machinery\": 1.03,\n",
        "  \"Metals & Mining\": 0.96,\n",
        "  \"Office Equipment & Services\": 1.14,\n",
        "  \"Oil/Gas (Integrated)\": 0.67,\n",
        "  \"Oil/Gas (Production and Exploratio\": 0.93,\n",
        "  \"Oil/Gas Distribution\": 0.79,\n",
        "  \"Oilfield Svcs/Equip.\": 0.98,\n",
        "  \"Packaging & Container\": 0.87,\n",
        "  \"Paper/Forest Products\": 1.94,\n",
        "  \"Power\": 0.65,\n",
        "  \"Precious Metals\": 0.87,\n",
        "  \"Publishing & Newspapers\": 0.92,\n",
        "  \"R.E.I.T.\": 1.02,\n",
        "  \"Real Estate (Development)\": 0.67,\n",
        "  \"Real Estate (General/Diversified)\": 0.56,\n",
        "  \"Real Estate (Operations & Services)\": 1.08,\n",
        "  \"Recreation\": 1.17,\n",
        "  \"Reinsurance\": 0.66,\n",
        "  \"Restaurant/Dining\": 1.19,\n",
        "  \"Retail (Automotive)\": 1.49,\n",
        "  \"Retail (Building Supply)\": 1.94,\n",
        "  \"Retail (Distributors)\": 1.11,\n",
        "  \"Retail (General)\": 1.25,\n",
        "  \"Retail (Grocery and Food)\": 0.49,\n",
        "  \"Retail (REITs)\": 1.12,\n",
        "  \"Retail (Special Lines)\": 1.18,\n",
        "  \"Rubber& Tires\": 0.67,\n",
        "  \"Semiconductor\": 1.5,\n",
        "  \"Semiconductor Equip\": 1.53,\n",
        "  \"Shipbuilding & Marine\": 0.81,\n",
        "  \"Shoe\": 1.29,\n",
        "  \"Software (Entertainment)\": 1.11,\n",
        "  \"Software (Internet)\": 1.62,\n",
        "  \"Software (System & Application)\": 1.29,\n",
        "  \"Steel\": 1.13,\n",
        "  \"Telecom (Wireless)\": 1.09,\n",
        "  \"Telecom. Equipment\": 1.08,\n",
        "  \"Telecom. Services\": 0.78,\n",
        "  \"Tobacco\": 1.22,\n",
        "  \"Transportation\": 1.0,\n",
        "  \"Transportation (Railroads)\": 1.02,\n",
        "  \"Trucking\": 1.15,\n",
        "  \"Utility (General)\": 0.58,\n",
        "  \"Utility (Water)\": 0.71,\n",
        "  \"Total Market\": 1.0,\n",
        "  \"Total Market (without financials)\": 1.1\n",
        "}"
      ],
      "metadata": {
        "id": "u77xhbdC_2Fk"
      },
      "execution_count": 12,
      "outputs": []
    },
    {
      "cell_type": "code",
      "source": [
        "# Confining industry_beta dictionary to all only industries with Betas greater than 1.2\n",
        "keys = list(industry_beta.keys())\n",
        "for key in keys:\n",
        "  if (abs(industry_beta[key]) < 1.19):\n",
        "    del industry_beta[key]\n",
        "for industry in industry_beta:\n",
        "  print(\"Industry: \" + str(industry) + \" Beta: \" + str(industry_beta[industry]))\n"
      ],
      "metadata": {
        "colab": {
          "base_uri": "https://localhost:8080/"
        },
        "id": "fOoQERJarWTy",
        "outputId": "c4461dfa-0f45-41b0-c33a-bb950fde1549"
      },
      "execution_count": 23,
      "outputs": [
        {
          "output_type": "stream",
          "name": "stdout",
          "text": [
            "Industry : Advertising Beta: 1.37\n",
            "Industry : Air Transport Beta: 1.27\n",
            "Industry : Apparel Beta: 1.19\n",
            "Industry : Auto & Truck Beta: 1.52\n",
            "Industry : Auto Parts Beta: 1.34\n",
            "Industry : Building Materials Beta: 1.32\n",
            "Industry : Cable TV Beta: 1.28\n",
            "Industry : Coal & Related Energy Beta: 1.27\n",
            "Industry : Diversified Beta: 1.19\n",
            "Industry : Education Beta: 1.23\n",
            "Industry : Electrical Equipment Beta: 1.24\n",
            "Industry : Electronics (Consumer & Office) Beta: 1.3\n",
            "Industry : Heathcare Information and Technol Beta: 1.27\n",
            "Industry : Homebuilding Beta: 1.37\n",
            "Industry : Hotel/Gaming Beta: 1.34\n",
            "Industry : Paper/Forest Products Beta: 1.94\n",
            "Industry : Restaurant/Dining Beta: 1.19\n",
            "Industry : Retail (Automotive) Beta: 1.49\n",
            "Industry : Retail (Building Supply) Beta: 1.94\n",
            "Industry : Retail (General) Beta: 1.25\n",
            "Industry : Semiconductor Beta: 1.5\n",
            "Industry : Semiconductor Equip Beta: 1.53\n",
            "Industry : Shoe Beta: 1.29\n",
            "Industry : Software (Internet) Beta: 1.62\n",
            "Industry : Software (System & Application) Beta: 1.29\n",
            "Industry : Tobacco Beta: 1.22\n"
          ]
        }
      ]
    },
    {
      "cell_type": "code",
      "source": [
        "## Finds stocks with a realized volatility that is greater than their Industry's Beta from the past day\n",
        "async def find_stocks():\n",
        "  # Gets all S&P500 stocks\n",
        "  curr_sp = lookups.get_sp500_tickers()\n",
        "\n",
        "  # Gets the YYYY-MM-DD value of Today and Yesterday\n",
        "  today = get_date(1)\n",
        "  yesterday = get_date(2)\n",
        "\n",
        "  # Gets the percent change of the price of SPY from yesterday to today\n",
        "  spy = stock.Stock(str(\"SPY\"))\n",
        "  todays_price = await spy.get_price(today)\n",
        "  yesterdays_price = await spy.get_price(yesterday)\n",
        "  spy_price_change = (abs((todays_price - yesterdays_price)/yesterdays_price)) * 100\n",
        "\n",
        "  # Stores the stocks we are going to purchase options form and their prices.\n",
        "  buy_stocks = {}\n",
        "\n",
        "  # Keeps track of number of stocks added to buy_stocks. Limiting to 5**\n",
        "  i = 0\n",
        "\n",
        "  # Runs through every stock in the S&P 500\n",
        "  for ticker in curr_sp:\n",
        "    try:\n",
        "      # Allows for us to get the price and industry of ticker\n",
        "      tick = stock.Stock(str(ticker))\n",
        "      industry = lookups.get_industry(ticker)\n",
        "\n",
        "      # We want the industry beta to be greater than 1 to ensure that it is volatile in order to make gamma scalping possible\n",
        "      if (industry not in industry_beta):\n",
        "          continue\n",
        "\n",
        "      try:\n",
        "      # Tries to get the price of the stock from today and yesterday\n",
        "        todays_price = await tick.get_price(today)\n",
        "        yesterdays_price = await tick.get_price(yesterday)\n",
        "      except:\n",
        "      # Skips stock if price is not available\n",
        "        continue\n",
        "\n",
        "      # Gets the percent change of the price from yesterday to today\n",
        "      price_change = (abs((todays_price - yesterdays_price)/yesterdays_price)) * 100\n",
        "\n",
        "      # 1. Divides the percent change in price of the stock divided by the industry beta. We should do this because if the beta is 1.5 than\n",
        "      # for every percent change in SPY the respective stock should have changed by 1.5. This will allow us to see if the stock actually increased\n",
        "      # more than 1.5% per SPY's 1%.\n",
        "      # 2. Multiplies Spy's percent change in price by 15 to find the stocks that have a huge difference in percent increase from their industry Beta.\n",
        "      # 3. Only accounting for 5 stocks currently, but this could be changed. I just wanted simplicity\n",
        "      # 4. Goal for future: Want to use Implied Volatility of a stock instead of Beta so we can compare Realized vs Implied volatility from a current day.\n",
        "\n",
        "      if (price_change/industry_beta[industry] > spy_price_change * 15 and i < 5):\n",
        "        buy_stocks[ticker] = todays_price\n",
        "        print(ticker + \" Stock Price: \" + str(todays_price))\n",
        "        i += 1\n",
        "        # Once 5 stocks are found return the stock options we want to buy\n",
        "        if (i == 5):\n",
        "          return buy_stocks\n",
        "    except:\n",
        "      #Stock not found in SEC Parser\n",
        "      continue;\n",
        "\n",
        "await find_stocks()"
      ],
      "metadata": {
        "colab": {
          "base_uri": "https://localhost:8080/"
        },
        "id": "OKSnjfzah_UR",
        "outputId": "c9d44103-b4d7-42de-ff31-41462892045b"
      },
      "execution_count": 26,
      "outputs": [
        {
          "output_type": "stream",
          "name": "stdout",
          "text": [
            "ADI Price: 193.72\n",
            "CHTR Price: 287.3\n",
            "FSLR Price: 150.03\n",
            "FTNT Price: 65.34\n",
            "GRMN Price: 133.58\n"
          ]
        },
        {
          "output_type": "execute_result",
          "data": {
            "text/plain": [
              "{'ADI': 193.72, 'CHTR': 287.3, 'FSLR': 150.03, 'FTNT': 65.34, 'GRMN': 133.58}"
            ]
          },
          "metadata": {},
          "execution_count": 26
        }
      ]
    },
    {
      "cell_type": "code",
      "source": [
        "# Next Steps in Creating Gamma Scalping Strategy:\n",
        "# **Note: Using Polygon API for the options is going to be how we complete most of this work, so make sure you look inot their API docs and use all the correct end points.**\n",
        "#     1. Determine how much stock we need to buy to become delta nuetral when buying options\n",
        "#           - For every call or put option you plan to buy, you consider it as buying 10 of those options.\n",
        "#           - To hedge a long call position, you buy puts. To hedge a long put position, you buy stocks.\n",
        "#           - Your position's delta adjustment is calculated as: 10×Delta×100, where 10 is the multiplier for\n",
        "#           the number of options, Delta is the option's delta, and 100 represents the standard number of\n",
        "#           shares per option contract.\n",
        "#           - Data Required:\n",
        "#             - Delta --> For Calls: Delta ranges from 0 to 1. For Puts: Delta ranges from -1 to 0.\n",
        "#             - Stock Price --> The current price of the underlying stock. This is crucial for calculating\n",
        "#               the financial implications of buying or selling the stock to hedge your options. This will\n",
        "#               be provided by the find_stocks fuction which will return a dictionary of stocks and their prices.\n",
        "\n",
        "#     2. Determine when an option is above/below the strike price for calls/puts respectively\n",
        "#.        - At the end of each day, look at closing price and see if it is above or below strike price respectively\n",
        "#         - Data Required:\n",
        "#           - Strike Price\n",
        "#     3. If call/put is above/below the strike price we need to also buy stock or puts\n",
        "#         - In order to remain delta nuetral we need to recalculate our exposure to delta and see how many stocks/puts we need to buy\n",
        "#.          when we are in the money(above/below strike price).\n",
        "#         - Data Required:\n",
        "#.          - new Delta --> For Calls: Delta ranges from 0 to 1. For Puts: Delta ranges from -1 to 0.\n",
        "#           - New Stock Price for puts/ New Put price for calls --> For hedging\n",
        "#     4. If call/put goes below/above strike price respectively we need to now sell our stocks or puts\n",
        "#         - In order to remain delta nuetral we need to recalculate our exposure to delta and see how many stocks/puts we need to sell\n",
        "#.          when we become out of the money(below/above strike price).\n",
        "#         - Data Required:\n",
        "#.          - new Delta --> For Calls: Delta ranges from 0 to 1. For Puts: Delta ranges from -1 to 0.\n",
        "#           - New Stock Price for puts/ New Put price for calls --> For hedging\n",
        "#     5. Once there is a day before expiration we do not want ot dno any more scalping sicne there is a lot of weird things that go on with options on expirary\n",
        "\n",
        "\n",
        "# Back Test:\n",
        "# When creating the back test, we will use these algorithms. Obviously we do not have the ability to asynchronously make these trades. So the back test will allow us to\n",
        "# pretend that we are making these trades \"asynchronously\". So for right now our objective is to make sure our logic works so we can fine tune it once we start testing it out.\n",
        "#\n",
        "#"
      ],
      "metadata": {
        "id": "SLoHGzGkB-VI"
      },
      "execution_count": 12,
      "outputs": []
    }
  ]
}